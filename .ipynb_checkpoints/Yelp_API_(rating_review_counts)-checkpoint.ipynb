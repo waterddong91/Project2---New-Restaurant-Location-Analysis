{
 "cells": [
  {
   "cell_type": "code",
   "execution_count": 1,
   "metadata": {},
   "outputs": [],
   "source": [
    "#pip install yelpapi"
   ]
  },
  {
   "cell_type": "code",
   "execution_count": 2,
   "metadata": {},
   "outputs": [],
   "source": [
    "from yelpapi import YelpAPI\n",
    "from pprint import pprint\n",
    "import pandas as pd\n",
    "import numpy as np"
   ]
  },
  {
   "cell_type": "code",
   "execution_count": 3,
   "metadata": {},
   "outputs": [],
   "source": [
    "yelp_api = YelpAPI('o2kVySxuJlQHYpsXVpPZPqV_VpfD1eACBU9JURPwZlbLiKOI3xWLEevsCB7Sq09OPUdxGumOHYE5ib0dkzR-X4Uvs3w0Cp1bJD3SEaCa0X307SNFXfiPW5hyQA3VX3Yx')"
   ]
  },
  {
   "cell_type": "code",
   "execution_count": 4,
   "metadata": {},
   "outputs": [
    {
     "name": "stdout",
     "output_type": "stream",
     "text": [
      "[{'alias': 'seven-lives-tacos-y-mariscos-toronto',\n",
      "  'categories': [{'alias': 'mexican', 'title': 'Mexican'}],\n",
      "  'coordinates': {'latitude': 43.6543411559068, 'longitude': -79.4004796072841},\n",
      "  'display_phone': '+1 416-393-4636',\n",
      "  'distance': 2236.76924282367,\n",
      "  'id': 'iGEvDk6hsizigmXhDKs2Vg',\n",
      "  'image_url': 'https://s3-media2.fl.yelpcdn.com/bphoto/4vmIs9jTNYlK24wb2WrQLg/o.jpg',\n",
      "  'is_closed': False,\n",
      "  'location': {'address1': '72 Kensington Avenue',\n",
      "               'address2': '',\n",
      "               'address3': '',\n",
      "               'city': 'Toronto',\n",
      "               'country': 'CA',\n",
      "               'display_address': ['72 Kensington Avenue',\n",
      "                                   'Toronto, ON M5T 2K1',\n",
      "                                   'Canada'],\n",
      "               'state': 'ON',\n",
      "               'zip_code': 'M5T 2K1'},\n",
      "  'name': 'Seven Lives Tacos y Mariscos',\n",
      "  'phone': '+14163934636',\n",
      "  'price': '$',\n",
      "  'rating': 4.5,\n",
      "  'review_count': 1323,\n",
      "  'transactions': [],\n",
      "  'url': 'https://www.yelp.com/biz/seven-lives-tacos-y-mariscos-toronto?adjust_creative=vliv81ZvKT_Oiqq8qtAerA&utm_campaign=yelp_api_v3&utm_medium=api_v3_business_search&utm_source=vliv81ZvKT_Oiqq8qtAerA'}]\n"
     ]
    }
   ],
   "source": [
    "# test\n",
    "response = yelp_api.search_query(location='toronto', limit=1, offset=1)\n",
    "pprint(response['businesses'])"
   ]
  },
  {
   "cell_type": "code",
   "execution_count": 5,
   "metadata": {},
   "outputs": [
    {
     "name": "stdout",
     "output_type": "stream",
     "text": [
      "'Seven Lives Tacos y Mariscos'\n"
     ]
    }
   ],
   "source": [
    "pprint(response['businesses'][0]['name'])"
   ]
  },
  {
   "cell_type": "code",
   "execution_count": 6,
   "metadata": {},
   "outputs": [],
   "source": [
    "offset = 1\n",
    "limit = 49\n",
    "total_num_queries = 20\n",
    "names = []\n",
    "ratings = []\n",
    "review_counts = []\n",
    "\n",
    "for i in range(total_num_queries-1):\n",
    "    \n",
    "    response = yelp_api.search_query(location='toronto', sort_by='rating', limit=limit, offset=offset)\n",
    "    \n",
    "    for business in range(len(response['businesses'])):\n",
    "        names.append(response['businesses'][business]['name'])\n",
    "        ratings.append(response['businesses'][business]['rating'])\n",
    "        review_counts.append(response['businesses'][business]['review_count'])\n",
    "        \n",
    "    offset = offset + limit"
   ]
  },
  {
   "cell_type": "code",
   "execution_count": 7,
   "metadata": {},
   "outputs": [
    {
     "name": "stdout",
     "output_type": "stream",
     "text": [
      "912 912 912\n"
     ]
    }
   ],
   "source": [
    "# Check if all the lists has the same number of items\n",
    "print(len(names), len(ratings), len(review_counts))"
   ]
  },
  {
   "cell_type": "code",
   "execution_count": 8,
   "metadata": {},
   "outputs": [],
   "source": [
    "rating_df = pd.DataFrame({\n",
    "                'name' : names,\n",
    "                'ratings' : ratings,\n",
    "                'review_counts' : review_counts\n",
    "})"
   ]
  },
  {
   "cell_type": "code",
   "execution_count": 9,
   "metadata": {},
   "outputs": [
    {
     "data": {
      "text/html": [
       "<div>\n",
       "<style scoped>\n",
       "    .dataframe tbody tr th:only-of-type {\n",
       "        vertical-align: middle;\n",
       "    }\n",
       "\n",
       "    .dataframe tbody tr th {\n",
       "        vertical-align: top;\n",
       "    }\n",
       "\n",
       "    .dataframe thead th {\n",
       "        text-align: right;\n",
       "    }\n",
       "</style>\n",
       "<table border=\"1\" class=\"dataframe\">\n",
       "  <thead>\n",
       "    <tr style=\"text-align: right;\">\n",
       "      <th></th>\n",
       "      <th>name</th>\n",
       "      <th>ratings</th>\n",
       "      <th>review_counts</th>\n",
       "    </tr>\n",
       "  </thead>\n",
       "  <tbody>\n",
       "    <tr>\n",
       "      <th>0</th>\n",
       "      <td>Muncheez</td>\n",
       "      <td>4.5</td>\n",
       "      <td>432</td>\n",
       "    </tr>\n",
       "    <tr>\n",
       "      <th>1</th>\n",
       "      <td>Zeal Burgers</td>\n",
       "      <td>5.0</td>\n",
       "      <td>117</td>\n",
       "    </tr>\n",
       "    <tr>\n",
       "      <th>2</th>\n",
       "      <td>New Orleans Seafood &amp; Steakhouse</td>\n",
       "      <td>4.5</td>\n",
       "      <td>136</td>\n",
       "    </tr>\n",
       "    <tr>\n",
       "      <th>3</th>\n",
       "      <td>Yasu</td>\n",
       "      <td>4.5</td>\n",
       "      <td>364</td>\n",
       "    </tr>\n",
       "    <tr>\n",
       "      <th>4</th>\n",
       "      <td>Fahrenheit Coffee</td>\n",
       "      <td>4.5</td>\n",
       "      <td>314</td>\n",
       "    </tr>\n",
       "    <tr>\n",
       "      <th>...</th>\n",
       "      <td>...</td>\n",
       "      <td>...</td>\n",
       "      <td>...</td>\n",
       "    </tr>\n",
       "    <tr>\n",
       "      <th>907</th>\n",
       "      <td>Tsaa Tea Shop</td>\n",
       "      <td>4.0</td>\n",
       "      <td>60</td>\n",
       "    </tr>\n",
       "    <tr>\n",
       "      <th>908</th>\n",
       "      <td>Scaddabush Italian Kitchen &amp; Bar</td>\n",
       "      <td>3.5</td>\n",
       "      <td>461</td>\n",
       "    </tr>\n",
       "    <tr>\n",
       "      <th>909</th>\n",
       "      <td>Ho Sushi Express</td>\n",
       "      <td>4.0</td>\n",
       "      <td>67</td>\n",
       "    </tr>\n",
       "    <tr>\n",
       "      <th>910</th>\n",
       "      <td>Saffron Spice Kitchen</td>\n",
       "      <td>4.0</td>\n",
       "      <td>123</td>\n",
       "    </tr>\n",
       "    <tr>\n",
       "      <th>911</th>\n",
       "      <td>Sushi Bong</td>\n",
       "      <td>4.0</td>\n",
       "      <td>151</td>\n",
       "    </tr>\n",
       "  </tbody>\n",
       "</table>\n",
       "<p>912 rows × 3 columns</p>\n",
       "</div>"
      ],
      "text/plain": [
       "                                 name  ratings  review_counts\n",
       "0                            Muncheez      4.5            432\n",
       "1                        Zeal Burgers      5.0            117\n",
       "2    New Orleans Seafood & Steakhouse      4.5            136\n",
       "3                                Yasu      4.5            364\n",
       "4                   Fahrenheit Coffee      4.5            314\n",
       "..                                ...      ...            ...\n",
       "907                     Tsaa Tea Shop      4.0             60\n",
       "908  Scaddabush Italian Kitchen & Bar      3.5            461\n",
       "909                  Ho Sushi Express      4.0             67\n",
       "910             Saffron Spice Kitchen      4.0            123\n",
       "911                        Sushi Bong      4.0            151\n",
       "\n",
       "[912 rows x 3 columns]"
      ]
     },
     "execution_count": 9,
     "metadata": {},
     "output_type": "execute_result"
    }
   ],
   "source": [
    "rating_df"
   ]
  },
  {
   "cell_type": "code",
   "execution_count": null,
   "metadata": {},
   "outputs": [],
   "source": []
  }
 ],
 "metadata": {
  "kernelspec": {
   "display_name": "Python 3",
   "language": "python",
   "name": "python3"
  },
  "language_info": {
   "codemirror_mode": {
    "name": "ipython",
    "version": 3
   },
   "file_extension": ".py",
   "mimetype": "text/x-python",
   "name": "python",
   "nbconvert_exporter": "python",
   "pygments_lexer": "ipython3",
   "version": "3.8.3"
  }
 },
 "nbformat": 4,
 "nbformat_minor": 4
}
